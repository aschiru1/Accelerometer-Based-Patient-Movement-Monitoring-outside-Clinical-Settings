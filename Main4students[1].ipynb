import os
import pandas as pd
import numpy as np
import matplotlib.pyplot as plt
from scipy.stats import linregress


def read_file(name):
    # Set base path to your project folder
    base_path = r"C:\Users\ashac\OneDrive - Indiana University\Fourth Semester\HFE\OneDrive"

    # Read patients.csv
    patient_df = pd.read_csv(os.path.join(base_path, 'patients.csv'))

    # Extract columns
    index = patient_df['patient'].values
    side_affected = patient_df['affected'].values
    mal_scores = patient_df['MAL amount'].values
    M2_affected = [0 for _ in range(len(index))]
    M2_index = 0
    for i in index:
        message_a = "Reading participant #" + str(i)
        print(message_a)

    # Reading the affected side of data for participant # (1 point)
    affected_side = patient_df[patient_df['patient'] == i]['affected'].values[0]
    message_b = " Reading the affected arm,(affected_side)"
    print(message_b)

    for i, patient_id in enumerate(index):
        print(f"Reading participant #{patient_id}")

        # Construct the path to the participant folder
        folder_path = os.path.join(base_path, str(patient_id))

        # Determine affected side and construct filename
        affected_side_str = side_affected[i].capitalize()  # Ensure 'Left' or 'Right'
        acc_file = os.path.join(folder_path, f"LOG_{affected_side_str}.csv")

        try:
            # Read CSV file, skipping the first 6 metadata rows
            raw_data = pd.read_csv(acc_file, skiprows=6)

            # Extract accelerometer values
            affected_acc_x = raw_data['Accelerometer x'].values
            affected_acc_y = raw_data['Accelerometer y'].values
            affected_acc_z = raw_data['Accelerometer z'].values

            # Compute magnitude (M2)
            affected_acc_mag = np.sqrt(affected_acc_x**2 + affected_acc_y**2 + affected_acc_z**2) - 9.8
            tmp_affected_M2 = np.mean(affected_acc_mag)

            M2_affected[M2_index] = tmp_affected_M2

        except Exception as e:
            print(f"Error reading data for participant {patient_id}: {e}")
            M2_affected[M2_index] = np.nan

        M2_index += 1

    # Print M2 values
    print("\nM2 values for affected arms:")
    print(M2_affected)

    # Scatter plot
    mal_scores_clean = [m for m, m2 in zip(mal_scores, M2_affected) if not np.isnan(m2)]
    M2_clean = [m2 for m2 in M2_affected if not np.isnan(m2)]

    plt.figure(figsize=(8, 6))
    plt.scatter(mal_scores_clean, M2_clean)

    plt.xlabel('Therapist-Assessed MAL Scores')
    plt.ylabel('M2 Values')
    plt.title('M2 vs. Therapist-Assessed MAL Scores')

    # Fit line if enough data
    if len(mal_scores_clean) > 1:
        slope, intercept, r_value, p_value, std_err = linregress(mal_scores_clean, M2_clean)
        fitted_line = slope * np.array(mal_scores_clean) + intercept
        plt.plot(mal_scores_clean, fitted_line, color='red', label=f'Fit line (R² = {r_value ** 2:.2f})')
        plt.legend()
    else:
        print("Not enough data for regression.")

    plt.grid(True)
    plt.tight_layout()
    plt.show()


if __name__ == '__main__':
    read_file('PyCharm')

